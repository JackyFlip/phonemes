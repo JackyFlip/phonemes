{
 "cells": [
  {
   "cell_type": "code",
   "execution_count": 9,
   "metadata": {},
   "outputs": [],
   "source": [
    "import pandas as pd\n",
    "import numpy as np\n",
    "from pathlib import Path\n",
    "import os"
   ]
  },
  {
   "cell_type": "code",
   "execution_count": 5,
   "metadata": {},
   "outputs": [
    {
     "data": {
      "text/html": [
       "<div>\n",
       "<style scoped>\n",
       "    .dataframe tbody tr th:only-of-type {\n",
       "        vertical-align: middle;\n",
       "    }\n",
       "\n",
       "    .dataframe tbody tr th {\n",
       "        vertical-align: top;\n",
       "    }\n",
       "\n",
       "    .dataframe thead th {\n",
       "        text-align: right;\n",
       "    }\n",
       "</style>\n",
       "<table border=\"1\" class=\"dataframe\">\n",
       "  <thead>\n",
       "    <tr style=\"text-align: right;\">\n",
       "      <th></th>\n",
       "      <th>num_categorie</th>\n",
       "      <th>num_item</th>\n",
       "      <th>nom_categorie</th>\n",
       "      <th>fr</th>\n",
       "      <th>it</th>\n",
       "      <th>de</th>\n",
       "      <th>en</th>\n",
       "      <th>pt</th>\n",
       "      <th>es</th>\n",
       "    </tr>\n",
       "  </thead>\n",
       "  <tbody>\n",
       "    <tr>\n",
       "      <th>0</th>\n",
       "      <td>1</td>\n",
       "      <td>1</td>\n",
       "      <td>cris d'animaux et sons</td>\n",
       "      <td>aïe</td>\n",
       "      <td>ahia/bua</td>\n",
       "      <td>au(tsch)/Aua</td>\n",
       "      <td>ouch/owie</td>\n",
       "      <td>ai/ dói dói</td>\n",
       "      <td>¡ay!/pupa</td>\n",
       "    </tr>\n",
       "    <tr>\n",
       "      <th>1</th>\n",
       "      <td>2</td>\n",
       "      <td>2</td>\n",
       "      <td>cris d'animaux et sons</td>\n",
       "      <td>cocorico</td>\n",
       "      <td>coccodè</td>\n",
       "      <td>kikeriki</td>\n",
       "      <td>cockadoodledoo</td>\n",
       "      <td>cócórócó/cocoró /córócócó</td>\n",
       "      <td>quiquiriquí</td>\n",
       "    </tr>\n",
       "    <tr>\n",
       "      <th>2</th>\n",
       "      <td>3</td>\n",
       "      <td>3</td>\n",
       "      <td>cris d'animaux et sons</td>\n",
       "      <td>grrrr</td>\n",
       "      <td>grr</td>\n",
       "      <td>grr</td>\n",
       "      <td>grrr</td>\n",
       "      <td>grr</td>\n",
       "      <td>grrr</td>\n",
       "    </tr>\n",
       "    <tr>\n",
       "      <th>3</th>\n",
       "      <td>4</td>\n",
       "      <td>4</td>\n",
       "      <td>cris d'animaux et sons</td>\n",
       "      <td>miaou</td>\n",
       "      <td>miao</td>\n",
       "      <td>miau</td>\n",
       "      <td>meow</td>\n",
       "      <td>miau miau</td>\n",
       "      <td>miau</td>\n",
       "    </tr>\n",
       "    <tr>\n",
       "      <th>4</th>\n",
       "      <td>5</td>\n",
       "      <td>5</td>\n",
       "      <td>cris d'animaux et sons</td>\n",
       "      <td>meuh</td>\n",
       "      <td>muh</td>\n",
       "      <td>muh</td>\n",
       "      <td>moo</td>\n",
       "      <td>mu-muuu</td>\n",
       "      <td>muu</td>\n",
       "    </tr>\n",
       "  </tbody>\n",
       "</table>\n",
       "</div>"
      ],
      "text/plain": [
       "   num_categorie  num_item           nom_categorie        fr        it  \\\n",
       "0              1         1  cris d'animaux et sons       aïe  ahia/bua   \n",
       "1              2         2  cris d'animaux et sons  cocorico   coccodè   \n",
       "2              3         3  cris d'animaux et sons     grrrr       grr   \n",
       "3              4         4  cris d'animaux et sons     miaou      miao   \n",
       "4              5         5  cris d'animaux et sons      meuh       muh   \n",
       "\n",
       "             de              en                         pt           es  \n",
       "0  au(tsch)/Aua       ouch/owie               ai/ dói dói     ¡ay!/pupa  \n",
       "1      kikeriki  cockadoodledoo  cócórócó/cocoró /córócócó  quiquiriquí  \n",
       "2           grr            grrr                        grr         grrr  \n",
       "3          miau            meow                  miau miau         miau  \n",
       "4           muh             moo                    mu-muuu          muu  "
      ]
     },
     "execution_count": 5,
     "metadata": {},
     "output_type": "execute_result"
    }
   ],
   "source": [
    "DATA_DIR = Path(Path.cwd()).parent\n",
    "DATA_PATH = os.path.join(DATA_DIR, 'data/CDI-mod.xlsx')\n",
    "df = pd.read_excel(DATA_PATH)\n",
    "df.head()"
   ]
  },
  {
   "cell_type": "code",
   "execution_count": 21,
   "metadata": {},
   "outputs": [],
   "source": [
    "df_fr_it = df[['fr', 'it']]\n",
    "fr_it_langues = df_fr_it.columns.to_numpy()\n",
    "fr_it_array = df_fr_it.to_numpy()"
   ]
  },
  {
   "cell_type": "code",
   "execution_count": 13,
   "metadata": {},
   "outputs": [
    {
     "name": "stdout",
     "output_type": "stream",
     "text": [
      "['aïe' 'ahia/bua']\n"
     ]
    }
   ],
   "source": [
    "for item in fr_it_array:\n",
    "    print(item)\n",
    "    break"
   ]
  }
 ],
 "metadata": {
  "kernelspec": {
   "display_name": "Python 3.10.5 ('venv': venv)",
   "language": "python",
   "name": "python3"
  },
  "language_info": {
   "codemirror_mode": {
    "name": "ipython",
    "version": 3
   },
   "file_extension": ".py",
   "mimetype": "text/x-python",
   "name": "python",
   "nbconvert_exporter": "python",
   "pygments_lexer": "ipython3",
   "version": "3.10.5"
  },
  "orig_nbformat": 4,
  "vscode": {
   "interpreter": {
    "hash": "3c1c89dd28956a7932c87555992aec53978542e005c677f4b3f59656a942da6f"
   }
  }
 },
 "nbformat": 4,
 "nbformat_minor": 2
}
