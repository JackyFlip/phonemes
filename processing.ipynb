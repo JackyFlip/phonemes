{
 "cells": [
  {
   "cell_type": "code",
   "execution_count": 1,
   "metadata": {},
   "outputs": [],
   "source": [
    "import pandas as pd\n",
    "from pathlib import Path\n",
    "import os\n",
    "from languages.phoneDE import process_data as process_de\n",
    "from languages.phoneIT import process_data as process_it\n",
    "import re"
   ]
  },
  {
   "cell_type": "code",
   "execution_count": 2,
   "metadata": {},
   "outputs": [],
   "source": [
    "groups = [['ʁ', 'ɹ', 'ɾ'], ['i', 'i:'], ['o', 'o:'], ['a', 'a:'], ['ɑ', 'ɑ:'], ['e', 'e:'], ['ɛ', 'ɛː'], ['ø', 'ø:'], ['u', 'u:'], ['y', 'y:'], ['ɔ', 'ɔ:']]"
   ]
  },
  {
   "cell_type": "code",
   "execution_count": 3,
   "metadata": {},
   "outputs": [],
   "source": [
    "DATA_DIR = Path(Path.cwd()).parent\n",
    "DATA_PATH = os.path.join(DATA_DIR, 'data/CDI propre 18.01.xlsx')"
   ]
  },
  {
   "cell_type": "code",
   "execution_count": 4,
   "metadata": {},
   "outputs": [
    {
     "data": {
      "text/plain": [
       "'/home/bjack/Projects/Python/Emeline/data/CDI propre 18.01.xlsx'"
      ]
     },
     "execution_count": 4,
     "metadata": {},
     "output_type": "execute_result"
    }
   ],
   "source": [
    "DATA_PATH"
   ]
  },
  {
   "cell_type": "code",
   "execution_count": 5,
   "metadata": {},
   "outputs": [],
   "source": [
    "df = pd.read_excel(DATA_PATH)"
   ]
  },
  {
   "cell_type": "code",
   "execution_count": 6,
   "metadata": {},
   "outputs": [
    {
     "data": {
      "text/html": [
       "<div>\n",
       "<style scoped>\n",
       "    .dataframe tbody tr th:only-of-type {\n",
       "        vertical-align: middle;\n",
       "    }\n",
       "\n",
       "    .dataframe tbody tr th {\n",
       "        vertical-align: top;\n",
       "    }\n",
       "\n",
       "    .dataframe thead th {\n",
       "        text-align: right;\n",
       "    }\n",
       "</style>\n",
       "<table border=\"1\" class=\"dataframe\">\n",
       "  <thead>\n",
       "    <tr style=\"text-align: right;\">\n",
       "      <th></th>\n",
       "      <th>numéro catégorie</th>\n",
       "      <th>numéro item</th>\n",
       "      <th>catégotie en français</th>\n",
       "      <th>français</th>\n",
       "      <th>italien</th>\n",
       "      <th>allemand</th>\n",
       "      <th>anglais</th>\n",
       "      <th>portugais</th>\n",
       "      <th>espagnol</th>\n",
       "    </tr>\n",
       "  </thead>\n",
       "  <tbody>\n",
       "    <tr>\n",
       "      <th>0</th>\n",
       "      <td>1</td>\n",
       "      <td>1</td>\n",
       "      <td>cris d'animaux et sons</td>\n",
       "      <td>aïe</td>\n",
       "      <td>ahia/bua</td>\n",
       "      <td>au(tsch)/Aua</td>\n",
       "      <td>ouch/owie</td>\n",
       "      <td>ai/ dói dói</td>\n",
       "      <td>¡ay!/pupa</td>\n",
       "    </tr>\n",
       "    <tr>\n",
       "      <th>1</th>\n",
       "      <td>2</td>\n",
       "      <td>2</td>\n",
       "      <td>cris d'animaux et sons</td>\n",
       "      <td>cocorico</td>\n",
       "      <td>coccodè</td>\n",
       "      <td>kikeriki</td>\n",
       "      <td>cockadoodledoo</td>\n",
       "      <td>cócórócó/cocoró /córócócó</td>\n",
       "      <td>quiquiriquí</td>\n",
       "    </tr>\n",
       "    <tr>\n",
       "      <th>2</th>\n",
       "      <td>3</td>\n",
       "      <td>3</td>\n",
       "      <td>cris d'animaux et sons</td>\n",
       "      <td>grrrr</td>\n",
       "      <td>grr</td>\n",
       "      <td>grr</td>\n",
       "      <td>grrr</td>\n",
       "      <td>grr</td>\n",
       "      <td>grrr</td>\n",
       "    </tr>\n",
       "    <tr>\n",
       "      <th>3</th>\n",
       "      <td>4</td>\n",
       "      <td>4</td>\n",
       "      <td>cris d'animaux et sons</td>\n",
       "      <td>miaou</td>\n",
       "      <td>miao</td>\n",
       "      <td>miau</td>\n",
       "      <td>meow</td>\n",
       "      <td>miau miau</td>\n",
       "      <td>miau</td>\n",
       "    </tr>\n",
       "    <tr>\n",
       "      <th>4</th>\n",
       "      <td>5</td>\n",
       "      <td>5</td>\n",
       "      <td>cris d'animaux et sons</td>\n",
       "      <td>meuh</td>\n",
       "      <td>muh</td>\n",
       "      <td>muh</td>\n",
       "      <td>moo</td>\n",
       "      <td>mu-muuu</td>\n",
       "      <td>muu</td>\n",
       "    </tr>\n",
       "  </tbody>\n",
       "</table>\n",
       "</div>"
      ],
      "text/plain": [
       "   numéro catégorie  numéro item   catégotie en français français    italien  \\\n",
       "0                 1            1  cris d'animaux et sons       aïe  ahia/bua   \n",
       "1                 2            2  cris d'animaux et sons  cocorico   coccodè   \n",
       "2                 3            3  cris d'animaux et sons     grrrr       grr   \n",
       "3                 4            4  cris d'animaux et sons     miaou      miao   \n",
       "4                 5            5  cris d'animaux et sons      meuh       muh   \n",
       "\n",
       "      allemand          anglais                  portugais     espagnol  \n",
       "0  au(tsch)/Aua       ouch/owie               ai/ dói dói     ¡ay!/pupa  \n",
       "1      kikeriki  cockadoodledoo  cócórócó/cocoró /córócócó  quiquiriquí  \n",
       "2           grr            grrr                        grr         grrr  \n",
       "3          miau            meow                  miau miau         miau  \n",
       "4           muh             moo                    mu-muuu          muu  "
      ]
     },
     "execution_count": 6,
     "metadata": {},
     "output_type": "execute_result"
    }
   ],
   "source": [
    "df.head()"
   ]
  },
  {
   "cell_type": "code",
   "execution_count": 7,
   "metadata": {},
   "outputs": [
    {
     "data": {
      "text/plain": [
       "(['m'], ['uː'], 1)"
      ]
     },
     "execution_count": 7,
     "metadata": {},
     "output_type": "execute_result"
    }
   ],
   "source": [
    "process_de('muh')"
   ]
  },
  {
   "cell_type": "code",
   "execution_count": 8,
   "metadata": {},
   "outputs": [
    {
     "data": {
      "text/plain": [
       "(['m'], ['u'], 1)"
      ]
     },
     "execution_count": 8,
     "metadata": {},
     "output_type": "execute_result"
    }
   ],
   "source": [
    "process_it('muh')"
   ]
  },
  {
   "cell_type": "code",
   "execution_count": 9,
   "metadata": {},
   "outputs": [
    {
     "data": {
      "text/plain": [
       "'au/Aua'"
      ]
     },
     "execution_count": 9,
     "metadata": {},
     "output_type": "execute_result"
    }
   ],
   "source": [
    "mystr = 'au(tsch)/Aua'\n",
    "newstr = re.sub(r\"\\([^()]*\\)\", \"\", mystr)\n",
    "newstr"
   ]
  },
  {
   "cell_type": "code",
   "execution_count": 10,
   "metadata": {},
   "outputs": [],
   "source": [
    "slstr = 'ai/ dói dói'\n",
    "slstrsp = slstr.split('/')\n"
   ]
  },
  {
   "cell_type": "code",
   "execution_count": 11,
   "metadata": {},
   "outputs": [],
   "source": [
    "al = ['u']\n",
    "bl = ['rtu:']"
   ]
  },
  {
   "cell_type": "code",
   "execution_count": null,
   "metadata": {},
   "outputs": [],
   "source": []
  },
  {
   "cell_type": "code",
   "execution_count": 12,
   "metadata": {},
   "outputs": [
    {
     "data": {
      "text/plain": [
       "{'rtu:', 'u'}"
      ]
     },
     "execution_count": 12,
     "metadata": {},
     "output_type": "execute_result"
    }
   ],
   "source": [
    "set(al) | set(bl)"
   ]
  },
  {
   "cell_type": "code",
   "execution_count": 13,
   "metadata": {},
   "outputs": [
    {
     "name": "stdout",
     "output_type": "stream",
     "text": [
      "No, List1 doesn't have all elements of the List2.\n"
     ]
    }
   ],
   "source": [
    "# Program to check the list contains elements of another list\n",
    "\n",
    "# List1\n",
    "List1 = ['python' ,  'javascript', 'csharp', 'go', 'c', 'c++']\n",
    " \n",
    "# List2\n",
    "List2 = ['csharp1' , 'go', 'python']\n",
    "\n",
    "check =  all(item in List1 for item in List2)\n",
    " \n",
    "if check is True:\n",
    "    print(\"The list {} contains all elements of the list {}\".format(List1, List2))    \n",
    "else :\n",
    "    print(\"No, List1 doesn't have all elements of the List2.\")"
   ]
  },
  {
   "cell_type": "code",
   "execution_count": 14,
   "metadata": {},
   "outputs": [
    {
     "data": {
      "text/plain": [
       "True"
      ]
     },
     "execution_count": 14,
     "metadata": {},
     "output_type": "execute_result"
    }
   ],
   "source": [
    "any(item in List1 for item in List2)"
   ]
  },
  {
   "cell_type": "code",
   "execution_count": 15,
   "metadata": {},
   "outputs": [
    {
     "data": {
      "text/plain": [
       "(['b', 'n', 't', 'ɾ'], ['aɪ', 'a', 'ə'], 3)"
      ]
     },
     "execution_count": 15,
     "metadata": {},
     "output_type": "execute_result"
    }
   ],
   "source": [
    "process_de('arbeiten')"
   ]
  },
  {
   "cell_type": "code",
   "execution_count": 16,
   "metadata": {},
   "outputs": [
    {
     "data": {
      "text/plain": [
       "(['l', 'r', 'r', 'v'], ['a', 'a', 'e', 'o'], 4)"
      ]
     },
     "execution_count": 16,
     "metadata": {},
     "output_type": "execute_result"
    }
   ],
   "source": [
    "process_it('lavorare')"
   ]
  },
  {
   "cell_type": "code",
   "execution_count": 18,
   "metadata": {},
   "outputs": [],
   "source": [
    "consonnes_de = ['b', 'n', 't', 'ɾ']\n",
    "consonnes_it = ['l', 'r', 'r', 'v']"
   ]
  },
  {
   "cell_type": "code",
   "execution_count": 24,
   "metadata": {},
   "outputs": [
    {
     "data": {
      "text/plain": [
       "[0, 0, 1]"
      ]
     },
     "execution_count": 24,
     "metadata": {},
     "output_type": "execute_result"
    }
   ],
   "source": [
    "[consonnes_de.count(ele) for ele in groups[0]]"
   ]
  },
  {
   "cell_type": "code",
   "execution_count": 23,
   "metadata": {},
   "outputs": [
    {
     "data": {
      "text/plain": [
       "0"
      ]
     },
     "execution_count": 23,
     "metadata": {},
     "output_type": "execute_result"
    }
   ],
   "source": [
    "consonnes_de.count(groups[0][0])"
   ]
  },
  {
   "cell_type": "code",
   "execution_count": 27,
   "metadata": {},
   "outputs": [
    {
     "name": "stdout",
     "output_type": "stream",
     "text": [
      "Original list [[1, 2, 3, 4], [5, 6, 7], [8, 9]]\n",
      "Transformed list [1, 2, 3, 4, 5, 6, 7, 8, 9]\n"
     ]
    }
   ],
   "source": [
    "regular_list = [[1, 2, 3, 4], [5, 6, 7], [8, 9]]\n",
    "flat_list = [item for sublist in regular_list for item in sublist]\n",
    "print('Original list', regular_list)\n",
    "print('Transformed list', flat_list)"
   ]
  },
  {
   "cell_type": "code",
   "execution_count": 29,
   "metadata": {},
   "outputs": [],
   "source": [
    "groups_flat = [item for sublist in groups for item in sublist]"
   ]
  },
  {
   "cell_type": "code",
   "execution_count": 30,
   "metadata": {},
   "outputs": [
    {
     "data": {
      "text/plain": [
       "['ʁ',\n",
       " 'ɹ',\n",
       " 'ɾ',\n",
       " 'i',\n",
       " 'i:',\n",
       " 'o',\n",
       " 'o:',\n",
       " 'a',\n",
       " 'a:',\n",
       " 'ɑ',\n",
       " 'ɑ:',\n",
       " 'e',\n",
       " 'e:',\n",
       " 'ɛ',\n",
       " 'ɛː',\n",
       " 'ø',\n",
       " 'ø:',\n",
       " 'u',\n",
       " 'u:',\n",
       " 'y',\n",
       " 'y:',\n",
       " 'ɔ',\n",
       " 'ɔ:']"
      ]
     },
     "execution_count": 30,
     "metadata": {},
     "output_type": "execute_result"
    }
   ],
   "source": [
    "groups_flat"
   ]
  },
  {
   "cell_type": "code",
   "execution_count": 31,
   "metadata": {},
   "outputs": [
    {
     "name": "stdout",
     "output_type": "stream",
     "text": [
      "123 N ANYWHERE STREET\n"
     ]
    }
   ],
   "source": [
    "address = \"123 north anywhere street\"\n",
    "\n",
    "dictionary = {\"NORTH\":\"N\", \"SOUTH\":\"S\" } \n",
    "for key in dictionary.keys():\n",
    "    address = address.upper().replace(key, dictionary[key])\n",
    "\n",
    "print(address)"
   ]
  },
  {
   "cell_type": "code",
   "execution_count": 43,
   "metadata": {},
   "outputs": [],
   "source": [
    "identical = {\n",
    "    'ʁ': 'r',\n",
    "    'ɹ': 'r',\n",
    "    'ɾ': 'r',\n",
    "    'i:': 'i',\n",
    "    'o:': 'o',\n",
    "    'a:': 'a',\n",
    "    'ɑ:': 'ɑ',\n",
    "    'e:': 'e',\n",
    "    'ɛː': 'ɛ',\n",
    "    'ø:': 'ø',\n",
    "    'u:': 'u',\n",
    "    'y:': 'y',\n",
    "    'ɔ:': 'ɔ'\n",
    "}\n",
    "\n",
    "def identical_replacer(phn_list: list[str]) -> list[str]:\n",
    "    for key in identical.keys():\n",
    "        phn_list = [element.replace(key, identical[key]) for element in phn_list]\n",
    "    return phn_list\n"
   ]
  },
  {
   "cell_type": "code",
   "execution_count": 33,
   "metadata": {},
   "outputs": [],
   "source": [
    "consonnes_de = ['b', 'n', 't', 'ɾ']\n",
    "consonnes_it = ['l', 'r', 'r', 'v']"
   ]
  },
  {
   "cell_type": "code",
   "execution_count": 34,
   "metadata": {},
   "outputs": [
    {
     "data": {
      "text/plain": [
       "0"
      ]
     },
     "execution_count": 34,
     "metadata": {},
     "output_type": "execute_result"
    }
   ],
   "source": [
    "consonnes_de.count(consonnes_it)"
   ]
  },
  {
   "cell_type": "code",
   "execution_count": 44,
   "metadata": {},
   "outputs": [
    {
     "data": {
      "text/plain": [
       "['b', 'n', 't', 'r']"
      ]
     },
     "execution_count": 44,
     "metadata": {},
     "output_type": "execute_result"
    }
   ],
   "source": [
    "identical_replacer(consonnes_de)"
   ]
  },
  {
   "cell_type": "code",
   "execution_count": 45,
   "metadata": {},
   "outputs": [
    {
     "data": {
      "text/plain": [
       "['l', 'r', 'r', 'v']"
      ]
     },
     "execution_count": 45,
     "metadata": {},
     "output_type": "execute_result"
    }
   ],
   "source": [
    "identical_replacer(consonnes_it)"
   ]
  },
  {
   "cell_type": "code",
   "execution_count": 46,
   "metadata": {},
   "outputs": [
    {
     "data": {
      "text/plain": [
       "['u', 'u']"
      ]
     },
     "execution_count": 46,
     "metadata": {},
     "output_type": "execute_result"
    }
   ],
   "source": [
    "identical_replacer(['u', 'u:'])"
   ]
  },
  {
   "cell_type": "code",
   "execution_count": 48,
   "metadata": {},
   "outputs": [],
   "source": [
    "consonnes_de_rep = identical_replacer(consonnes_de)\n",
    "consonnes_it_rep = identical_replacer(consonnes_it)"
   ]
  },
  {
   "cell_type": "code",
   "execution_count": 61,
   "metadata": {},
   "outputs": [
    {
     "data": {
      "text/plain": [
       "1"
      ]
     },
     "execution_count": 61,
     "metadata": {},
     "output_type": "execute_result"
    }
   ],
   "source": [
    "sum([list(set(consonnes_de_rep)).count(element) for element in list(set(consonnes_it_rep))])"
   ]
  },
  {
   "cell_type": "code",
   "execution_count": 60,
   "metadata": {},
   "outputs": [
    {
     "data": {
      "text/plain": [
       "['l', 'v', 'r']"
      ]
     },
     "execution_count": 60,
     "metadata": {},
     "output_type": "execute_result"
    }
   ],
   "source": []
  },
  {
   "cell_type": "code",
   "execution_count": null,
   "metadata": {},
   "outputs": [],
   "source": []
  }
 ],
 "metadata": {
  "kernelspec": {
   "display_name": "Python 3.10.5 ('venv': venv)",
   "language": "python",
   "name": "python3"
  },
  "language_info": {
   "codemirror_mode": {
    "name": "ipython",
    "version": 3
   },
   "file_extension": ".py",
   "mimetype": "text/x-python",
   "name": "python",
   "nbconvert_exporter": "python",
   "pygments_lexer": "ipython3",
   "version": "3.10.5"
  },
  "orig_nbformat": 4,
  "vscode": {
   "interpreter": {
    "hash": "3c1c89dd28956a7932c87555992aec53978542e005c677f4b3f59656a942da6f"
   }
  }
 },
 "nbformat": 4,
 "nbformat_minor": 2
}
