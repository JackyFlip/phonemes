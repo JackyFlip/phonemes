{
 "cells": [
  {
   "cell_type": "code",
   "execution_count": 18,
   "metadata": {},
   "outputs": [],
   "source": [
    "import pandas as pd\n",
    "from pathlib import Path\n",
    "import os\n",
    "from languages.phoneDE import process_data as process_de\n",
    "from languages.phoneIT import process_data as process_it\n",
    "import re\n",
    "from unidecode import unidecode"
   ]
  },
  {
   "cell_type": "code",
   "execution_count": 2,
   "metadata": {},
   "outputs": [
    {
     "data": {
      "text/html": [
       "<div>\n",
       "<style scoped>\n",
       "    .dataframe tbody tr th:only-of-type {\n",
       "        vertical-align: middle;\n",
       "    }\n",
       "\n",
       "    .dataframe tbody tr th {\n",
       "        vertical-align: top;\n",
       "    }\n",
       "\n",
       "    .dataframe thead th {\n",
       "        text-align: right;\n",
       "    }\n",
       "</style>\n",
       "<table border=\"1\" class=\"dataframe\">\n",
       "  <thead>\n",
       "    <tr style=\"text-align: right;\">\n",
       "      <th></th>\n",
       "      <th>numéro catégorie</th>\n",
       "      <th>numéro item</th>\n",
       "      <th>catégotie en français</th>\n",
       "      <th>français</th>\n",
       "      <th>italien</th>\n",
       "      <th>allemand</th>\n",
       "      <th>anglais</th>\n",
       "      <th>portugais</th>\n",
       "      <th>espagnol</th>\n",
       "    </tr>\n",
       "  </thead>\n",
       "  <tbody>\n",
       "    <tr>\n",
       "      <th>0</th>\n",
       "      <td>1</td>\n",
       "      <td>1</td>\n",
       "      <td>cris d'animaux et sons</td>\n",
       "      <td>aïe</td>\n",
       "      <td>ahia/bua</td>\n",
       "      <td>au(tsch)/Aua</td>\n",
       "      <td>ouch/owie</td>\n",
       "      <td>ai/ dói dói</td>\n",
       "      <td>¡ay!/pupa</td>\n",
       "    </tr>\n",
       "    <tr>\n",
       "      <th>1</th>\n",
       "      <td>2</td>\n",
       "      <td>2</td>\n",
       "      <td>cris d'animaux et sons</td>\n",
       "      <td>cocorico</td>\n",
       "      <td>coccodè</td>\n",
       "      <td>kikeriki</td>\n",
       "      <td>cockadoodledoo</td>\n",
       "      <td>cócórócó/cocoró /córócócó</td>\n",
       "      <td>quiquiriquí</td>\n",
       "    </tr>\n",
       "    <tr>\n",
       "      <th>2</th>\n",
       "      <td>3</td>\n",
       "      <td>3</td>\n",
       "      <td>cris d'animaux et sons</td>\n",
       "      <td>grrrr</td>\n",
       "      <td>grr</td>\n",
       "      <td>grr</td>\n",
       "      <td>grrr</td>\n",
       "      <td>grr</td>\n",
       "      <td>grrr</td>\n",
       "    </tr>\n",
       "    <tr>\n",
       "      <th>3</th>\n",
       "      <td>4</td>\n",
       "      <td>4</td>\n",
       "      <td>cris d'animaux et sons</td>\n",
       "      <td>miaou</td>\n",
       "      <td>miao</td>\n",
       "      <td>miau</td>\n",
       "      <td>meow</td>\n",
       "      <td>miau miau</td>\n",
       "      <td>miau</td>\n",
       "    </tr>\n",
       "    <tr>\n",
       "      <th>4</th>\n",
       "      <td>5</td>\n",
       "      <td>5</td>\n",
       "      <td>cris d'animaux et sons</td>\n",
       "      <td>meuh</td>\n",
       "      <td>muh</td>\n",
       "      <td>muh</td>\n",
       "      <td>moo</td>\n",
       "      <td>mu-muuu</td>\n",
       "      <td>muu</td>\n",
       "    </tr>\n",
       "  </tbody>\n",
       "</table>\n",
       "</div>"
      ],
      "text/plain": [
       "   numéro catégorie  numéro item   catégotie en français français    italien  \\\n",
       "0                 1            1  cris d'animaux et sons       aïe  ahia/bua   \n",
       "1                 2            2  cris d'animaux et sons  cocorico   coccodè   \n",
       "2                 3            3  cris d'animaux et sons     grrrr       grr   \n",
       "3                 4            4  cris d'animaux et sons     miaou      miao   \n",
       "4                 5            5  cris d'animaux et sons      meuh       muh   \n",
       "\n",
       "      allemand          anglais                  portugais     espagnol  \n",
       "0  au(tsch)/Aua       ouch/owie               ai/ dói dói     ¡ay!/pupa  \n",
       "1      kikeriki  cockadoodledoo  cócórócó/cocoró /córócócó  quiquiriquí  \n",
       "2           grr            grrr                        grr         grrr  \n",
       "3          miau            meow                  miau miau         miau  \n",
       "4           muh             moo                    mu-muuu          muu  "
      ]
     },
     "execution_count": 2,
     "metadata": {},
     "output_type": "execute_result"
    }
   ],
   "source": [
    "DATA_DIR = Path(Path.cwd()).parent\n",
    "DATA_PATH = os.path.join(DATA_DIR, 'data/CDI propre 18.01.xlsx')\n",
    "df = pd.read_excel(DATA_PATH)\n",
    "df.head()"
   ]
  },
  {
   "cell_type": "code",
   "execution_count": 3,
   "metadata": {},
   "outputs": [],
   "source": [
    "identical = {\n",
    "    'ʁ': 'r',\n",
    "    'ɹ': 'r',\n",
    "    'ɾ': 'r',\n",
    "    'i:': 'i',\n",
    "    'o:': 'o',\n",
    "    'a:': 'a',\n",
    "    'ɑ:': 'ɑ',\n",
    "    'e:': 'e',\n",
    "    'ɛː': 'ɛ',\n",
    "    'ø:': 'ø',\n",
    "    'u:': 'u',\n",
    "    'y:': 'y',\n",
    "    'ɔ:': 'ɔ'\n",
    "}\n",
    "\n",
    "def identical_replacer(phn_list: list[str]) -> list[str]:\n",
    "    for key in identical.keys():\n",
    "        phn_list = [element.replace(key, identical[key]) for element in phn_list]\n",
    "    return phn_list"
   ]
  },
  {
   "cell_type": "code",
   "execution_count": 4,
   "metadata": {},
   "outputs": [],
   "source": [
    "def phn_list_comparator(phn_list_0: list[str], phn_list_1: list[str]) -> int:\n",
    "    return sum([list(set(phn_list_0)).count(element) for element in list(set(phn_list_1))])"
   ]
  },
  {
   "cell_type": "code",
   "execution_count": 63,
   "metadata": {},
   "outputs": [],
   "source": [
    "import numpy as np\n",
    "\n",
    "def pourcentage_chevauchement(phn_list_0: list[str], phn_list_1: list[str]) -> float:\n",
    "    taille_phn_0 = len(phn_list_0)\n",
    "    taille_phn_1 = len(phn_list_1)\n",
    "\n",
    "    reference = max(taille_phn_0, taille_phn_1)\n",
    "\n",
    "    phn_list_0_replaced = np.array(identical_replacer(phn_list_0))\n",
    "    phn_list_1_replaced = np.array(identical_replacer(phn_list_1))\n",
    "\n",
    "    nb_chevauchements = np.intersect1d(phn_list_0_replaced, phn_list_1_replaced).size\n",
    "\n",
    "    return nb_chevauchements / reference"
   ]
  },
  {
   "cell_type": "code",
   "execution_count": 75,
   "metadata": {},
   "outputs": [],
   "source": [
    "def score_syllabes(nb_syllabes_mot_0: int, nb_syllabes_mot_1: int) -> int:\n",
    "    difference = abs(nb_syllabes_mot_0 - nb_syllabes_mot_1)\n",
    "\n",
    "    match difference:\n",
    "        case 0: \n",
    "            return 2\n",
    "        case 1: \n",
    "            return 1\n",
    "        case _: \n",
    "            return 0"
   ]
  },
  {
   "cell_type": "code",
   "execution_count": 90,
   "metadata": {},
   "outputs": [],
   "source": [
    "def score_chevauchement_consonnes(pourcentage: float) -> int:\n",
    "    if pourcentage > .7:\n",
    "        return 3\n",
    "    elif pourcentage > .5:\n",
    "        return 2\n",
    "    elif pourcentage > .01:\n",
    "        return 1\n",
    "    return 0"
   ]
  },
  {
   "cell_type": "code",
   "execution_count": 92,
   "metadata": {},
   "outputs": [],
   "source": [
    "def score_chevauchement_voyelles(pourcentage: float) -> int:\n",
    "    if pourcentage >= .8:\n",
    "        return 2\n",
    "    elif pourcentage >= .5:\n",
    "        return 1\n",
    "    return 0"
   ]
  },
  {
   "cell_type": "code",
   "execution_count": 101,
   "metadata": {},
   "outputs": [
    {
     "data": {
      "text/plain": [
       "0"
      ]
     },
     "execution_count": 101,
     "metadata": {},
     "output_type": "execute_result"
    }
   ],
   "source": [
    "score_chevauchement_voyelles(0.)"
   ]
  },
  {
   "cell_type": "code",
   "execution_count": 67,
   "metadata": {},
   "outputs": [
    {
     "data": {
      "text/plain": [
       "(['ɾ', 'b', 't'], ['aɪ', 'a'], 2)"
      ]
     },
     "execution_count": 67,
     "metadata": {},
     "output_type": "execute_result"
    }
   ],
   "source": [
    "process_de('arbeit')"
   ]
  },
  {
   "cell_type": "code",
   "execution_count": 68,
   "metadata": {},
   "outputs": [
    {
     "data": {
      "text/plain": [
       "(['l', 'r', 'r', 'v'], ['a', 'a', 'e', 'o'], 4)"
      ]
     },
     "execution_count": 68,
     "metadata": {},
     "output_type": "execute_result"
    }
   ],
   "source": [
    "process_it('lavorare')"
   ]
  },
  {
   "cell_type": "code",
   "execution_count": 69,
   "metadata": {},
   "outputs": [
    {
     "data": {
      "text/plain": [
       "0.25"
      ]
     },
     "execution_count": 69,
     "metadata": {},
     "output_type": "execute_result"
    }
   ],
   "source": [
    "pourcentage_chevauchement(process_de('arbeit')[0], process_it('lavorare')[0])"
   ]
  },
  {
   "cell_type": "code",
   "execution_count": null,
   "metadata": {},
   "outputs": [],
   "source": [
    "def son_initial(mot_0: str, mot_1: str): \n",
    "    l_0 = list(mot_0)\n",
    "    l_1 = list(mot_1)\n",
    "    "
   ]
  },
  {
   "cell_type": "code",
   "execution_count": 23,
   "metadata": {},
   "outputs": [],
   "source": [
    "mot_it = 'triste'\n",
    "mot_fr = 'triste'\n",
    "\n",
    "liste_voyelles = ['a', 'e', 'i', 'o', 'u', 'y']\n",
    "\n",
    "liste_it = list(unidecode(mot_it))\n",
    "liste_fr = list(unidecode(mot_fr))\n",
    "\n",
    "liste_son_initial_it = [liste_voyelles.count(element) for element in liste_it][:2]\n",
    "liste_son_initial_fr = [liste_voyelles.count(element) for element in liste_fr][:2]\n",
    "\n",
    "\n"
   ]
  },
  {
   "cell_type": "code",
   "execution_count": 5,
   "metadata": {},
   "outputs": [
    {
     "data": {
      "text/plain": [
       "(['ɾ', 'b', 't', 'n'], ['aɪ', 'a', 'ə'], 3)"
      ]
     },
     "execution_count": 5,
     "metadata": {},
     "output_type": "execute_result"
    }
   ],
   "source": [
    "process_de('arbeiten')"
   ]
  },
  {
   "cell_type": "code",
   "execution_count": 16,
   "metadata": {},
   "outputs": [
    {
     "data": {
      "text/plain": [
       "'Malaguena'"
      ]
     },
     "execution_count": 16,
     "metadata": {},
     "output_type": "execute_result"
    }
   ],
   "source": []
  },
  {
   "cell_type": "code",
   "execution_count": null,
   "metadata": {},
   "outputs": [],
   "source": []
  }
 ],
 "metadata": {
  "kernelspec": {
   "display_name": "Python 3.10.5 ('venv': venv)",
   "language": "python",
   "name": "python3"
  },
  "language_info": {
   "codemirror_mode": {
    "name": "ipython",
    "version": 3
   },
   "file_extension": ".py",
   "mimetype": "text/x-python",
   "name": "python",
   "nbconvert_exporter": "python",
   "pygments_lexer": "ipython3",
   "version": "3.10.5"
  },
  "orig_nbformat": 4,
  "vscode": {
   "interpreter": {
    "hash": "3c1c89dd28956a7932c87555992aec53978542e005c677f4b3f59656a942da6f"
   }
  }
 },
 "nbformat": 4,
 "nbformat_minor": 2
}
